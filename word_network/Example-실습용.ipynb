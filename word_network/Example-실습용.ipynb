{
 "cells": [
  {
   "cell_type": "code",
   "execution_count": 1,
   "metadata": {
    "collapsed": false
   },
   "outputs": [
    {
     "name": "stdout",
     "output_type": "stream",
     "text": [
      "Populating the interactive namespace from numpy and matplotlib\n"
     ]
    }
   ],
   "source": [
    "%pylab inline"
   ]
  },
  {
   "cell_type": "markdown",
   "metadata": {},
   "source": [
    "# 라이브러리 불러오기"
   ]
  },
  {
   "cell_type": "code",
   "execution_count": 2,
   "metadata": {
    "collapsed": true
   },
   "outputs": [],
   "source": [
    "import networkx as nx\n",
    "import operator"
   ]
  },
  {
   "cell_type": "code",
   "execution_count": 4,
   "metadata": {
    "collapsed": false
   },
   "outputs": [
    {
     "name": "stdout",
     "output_type": "stream",
     "text": [
      "0 형태소 분석기 COMP\n",
      "2 유몰핌 CUSTOM\n",
      "3 입니다 VCP+EC\n"
     ]
    }
   ],
   "source": [
    "import Umorpheme.morpheme as um\n",
    "from collections import OrderedDict\n",
    "\n",
    "s = '형태소 분석기 유몰핌입니다'\n",
    "server = 'http://information.center/api/korean'\n",
    "apikey = 'koorJRK3XO1G0W' # Register at http://information.center/korean\n",
    "data = um.analyzer(s, server, apikey, '유몰핌,유니스트', 1)\n",
    "\n",
    "temp = {}\n",
    "for key, value in data.items():\n",
    "    temp[int(key)] = value\n",
    "data = OrderedDict(sorted(temp.items()))\n",
    "\n",
    "for i, j in data.iteritems():\n",
    "    print i, j['data'], j['feature']"
   ]
  },
  {
   "cell_type": "markdown",
   "metadata": {},
   "source": [
    "### 명사 추출 함수"
   ]
  },
  {
   "cell_type": "code",
   "execution_count": 5,
   "metadata": {
    "collapsed": false
   },
   "outputs": [],
   "source": [
    "def nouns(s):\n",
    "    \"\"\" 명사 추출 함수 \"\"\"\n",
    "    if type(s) == unicode:\n",
    "        s = s.encode('utf8')\n",
    "    server = 'http://information.center/api/korean'\n",
    "    apikey = 'koorJRK3XO1G0W' # Register at http://information.center/korean\n",
    "    data = um.analyzer(s, server, apikey, '유몰핌,유니스트', 1)\n",
    "\n",
    "    temp = {}\n",
    "    for key, value in data.items():\n",
    "        temp[int(key)] = value\n",
    "    data = OrderedDict(sorted(temp.items()))\n",
    "\n",
    "    selected = []\n",
    "    for i, j in data.iteritems():\n",
    "        if j['feature'] in ['COMP', 'NNP', 'NNG']:\n",
    "            selected.append(j['data'])\n",
    "    return selected"
   ]
  },
  {
   "cell_type": "markdown",
   "metadata": {},
   "source": [
    "### 텍스트 파일 불러와서 news 리스트로 만들기"
   ]
  },
  {
   "cell_type": "code",
   "execution_count": 6,
   "metadata": {
    "collapsed": false
   },
   "outputs": [],
   "source": [
    "filename = 'CHOSUN_2000.txt'\n",
    "f = open(filename, 'r')\n",
    "data = f.read()\n",
    "f.close()\n",
    "data = data.decode('cp949')\n",
    "newslist = data.split('</DOC>') # 뉴스 리스트\n",
    "\n",
    "news = list()\n",
    "for n in newslist:\n",
    "    if '<TEXT>' in n:\n",
    "        content = n.split('<TEXT>')[1].split('</TEXT>')[0]\n",
    "        news.append(content)"
   ]
  },
  {
   "cell_type": "markdown",
   "metadata": {},
   "source": [
    "# 뉴스 하나만 네트워크로"
   ]
  },
  {
   "cell_type": "markdown",
   "metadata": {},
   "source": [
    "### news[0] 에서 명사만 keys로 저장"
   ]
  },
  {
   "cell_type": "code",
   "execution_count": 7,
   "metadata": {
    "collapsed": false
   },
   "outputs": [],
   "source": [
    "keys = nouns(news[0])"
   ]
  },
  {
   "cell_type": "code",
   "execution_count": 8,
   "metadata": {
    "collapsed": false
   },
   "outputs": [
    {
     "name": "stdout",
     "output_type": "stream",
     "text": [
      "시작 / 서울 광화문 이순신 장군 동상 앞\n",
      "서울 광화문 이순신 장군 동상 앞 / 설치\n",
      "설치 / 대형 시계추 숫자\n",
      "대형 시계추 숫자 / 광화문 일대\n",
      "광화문 일대 / 폭죽\n",
      "폭죽 / 대형 카드 섹션\n",
      "대형 카드 섹션 / 자\n",
      "자 / 김창종 기자\n"
     ]
    }
   ],
   "source": [
    "# 키 쌍 보기\n",
    "for idx, key in enumerate(keys[:-1]):\n",
    "    print keys[idx], '/', keys[idx+1]"
   ]
  },
  {
   "cell_type": "markdown",
   "metadata": {},
   "source": [
    "#### news[0]의 keys들을 네트워크로 만들기"
   ]
  },
  {
   "cell_type": "code",
   "execution_count": 9,
   "metadata": {
    "collapsed": true
   },
   "outputs": [],
   "source": [
    "G = nx.Graph()\n",
    "for idx, key in enumerate(keys[:-1]):\n",
    "    G.add_edge(keys[idx], keys[idx+1])"
   ]
  },
  {
   "cell_type": "markdown",
   "metadata": {},
   "source": [
    "# 뉴스 여러 개를 네트워크로"
   ]
  },
  {
   "cell_type": "markdown",
   "metadata": {},
   "source": [
    "### news[:10], 다시 말해 0부터 10개의 뉴스에 대해서 네트워크 만들기"
   ]
  },
  {
   "cell_type": "code",
   "execution_count": 13,
   "metadata": {
    "collapsed": false
   },
   "outputs": [
    {
     "name": "stdout",
     "output_type": "stream",
     "text": [
      "0\n",
      "1\n",
      "2\n",
      "3\n",
      "4\n",
      "5\n",
      "6\n",
      "7\n",
      "8\n",
      "9\n"
     ]
    }
   ],
   "source": [
    "G = nx.Graph()\n",
    "for num, n in enumerate(news[:10]):\n",
    "    keys = nouns(n)\n",
    "    for idx, key in enumerate(keys[:-1]):\n",
    "        G.add_edge(keys[idx], keys[idx+1])\n",
    "    print num"
   ]
  },
  {
   "cell_type": "markdown",
   "metadata": {},
   "source": [
    "##### 네트워크 정보 보기"
   ]
  },
  {
   "cell_type": "code",
   "execution_count": 14,
   "metadata": {
    "collapsed": false
   },
   "outputs": [
    {
     "name": "stdout",
     "output_type": "stream",
     "text": [
      "Number of Nodes :  641\n",
      "Number of Edges :  802\n",
      "Avg. Node Degree :  2.5023400936\n",
      "Avg. Path Length :  9.98178139626\n",
      "Avg. Clustering Coefficient :  0.0238865268896\n"
     ]
    }
   ],
   "source": [
    "print \"Number of Nodes : \", nx.number_of_nodes(G)\n",
    "print \"Number of Edges : \", nx.number_of_edges(G)\n",
    "degreelist = list(G.degree().values())\n",
    "print \"Avg. Node Degree : \", float(sum(degreelist))/nx.number_of_nodes(G)\n",
    "try:\n",
    "    print \"Avg. Path Length : \", nx.average_shortest_path_length(G)\n",
    "except nx.NetworkXError as e:\n",
    "    print e\n",
    "print \"Avg. Clustering Coefficient : \", nx.average_clustering(G)"
   ]
  },
  {
   "cell_type": "markdown",
   "metadata": {},
   "source": [
    "#### 매개 중심성 계산"
   ]
  },
  {
   "cell_type": "code",
   "execution_count": 15,
   "metadata": {
    "collapsed": false
   },
   "outputs": [
    {
     "name": "stdout",
     "output_type": "stream",
     "text": [
      "::: Betweenness Centrality\n",
      "민족 0.222541767307\n",
      "확대 0.207124594332\n",
      "계획 0.184870070443\n",
      "인터넷 0.18424020139\n",
      "관련 기사 0.164401952432\n",
      "장애 0.146719830063\n",
      "말 0.136220016073\n",
      "정신 0.136107409275\n",
      "창당 0.109373946427\n",
      "보수 신 0.103069256792\n",
      "오늘 0.0939545238793\n",
      "때 0.0936252992899\n",
      "지명 0.0920145977984\n",
      "각종 수혜 0.0887227150783\n",
      "선 0.0880045315084\n",
      "조선일보 0.0853922813569\n",
      "전국 0.0815975921005\n",
      "환자 0.0808245548628\n",
      "사실 0.0746019420557\n",
      "일본 정부 0.0744875378165\n"
     ]
    }
   ],
   "source": [
    "print \"::: Betweenness Centrality\"\n",
    "x = nx.betweenness_centrality(G)\n",
    "sorted_list = sorted(x.iteritems(), key=operator.itemgetter(1), reverse=True)\n",
    "for s in sorted_list[:20]:\n",
    "    print s[0], s[1]"
   ]
  },
  {
   "cell_type": "markdown",
   "metadata": {},
   "source": [
    "#### 근접 중심성 계산"
   ]
  },
  {
   "cell_type": "code",
   "execution_count": 16,
   "metadata": {
    "collapsed": false
   },
   "outputs": [
    {
     "name": "stdout",
     "output_type": "stream",
     "text": [
      "::: Closeness Centrality\n",
      "민족 0.149812734082\n",
      "정신 0.14398200225\n",
      "확대 0.143820224719\n",
      "때 0.14343343792\n",
      "계획 0.142697881828\n",
      "장애 0.142159040426\n",
      "선 0.14053579271\n",
      "국가 0.140043763676\n",
      "경우 등록 장애 0.138228941685\n",
      "관련 기사 0.137990513152\n",
      "전문가 0.137486573577\n",
      "급 0.13736853402\n",
      "환자 0.136927685066\n",
      "각종 수혜 0.136431464507\n",
      "전망 0.135765803988\n",
      "혼 0.135507092949\n",
      "본 0.135421074905\n",
      "르네상스 운동 0.134708482425\n",
      "제정신 0.134651798864\n",
      "한반도 0.134623474968\n"
     ]
    }
   ],
   "source": [
    "print \"::: Closeness Centrality\"\n",
    "x = nx.closeness_centrality(G)\n",
    "sorted_list = sorted(x.iteritems(), key=operator.itemgetter(1), reverse=True)\n",
    "for s in sorted_list[:20]:\n",
    "    print s[0], s[1]"
   ]
  },
  {
   "cell_type": "markdown",
   "metadata": {},
   "source": [
    "# 그래프 데이터 추출하기 for Gephi"
   ]
  },
  {
   "cell_type": "code",
   "execution_count": 45,
   "metadata": {
    "collapsed": true
   },
   "outputs": [],
   "source": [
    "nx.write_gexf(G, 'graph.gexf')"
   ]
  },
  {
   "cell_type": "code",
   "execution_count": null,
   "metadata": {
    "collapsed": true
   },
   "outputs": [],
   "source": []
  }
 ],
 "metadata": {
  "kernelspec": {
   "display_name": "Python 2",
   "language": "python",
   "name": "python2"
  },
  "language_info": {
   "codemirror_mode": {
    "name": "ipython",
    "version": 2
   },
   "file_extension": ".py",
   "mimetype": "text/x-python",
   "name": "python",
   "nbconvert_exporter": "python",
   "pygments_lexer": "ipython2",
   "version": "2.7.6"
  }
 },
 "nbformat": 4,
 "nbformat_minor": 0
}
